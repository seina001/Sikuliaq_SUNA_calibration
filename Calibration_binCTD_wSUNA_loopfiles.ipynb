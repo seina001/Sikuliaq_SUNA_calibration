{
 "cells": [
  {
   "cell_type": "code",
   "execution_count": 1,
   "metadata": {},
   "outputs": [],
   "source": [
    "import os\n",
    "import numpy as np\n",
    "import pandas as pd"
   ]
  },
  {
   "cell_type": "code",
   "execution_count": 2,
   "metadata": {},
   "outputs": [],
   "source": [
    "#Import CTD bottle nitrate data for calibration of SUNA\n",
    "\n",
    "infile = './nitratewatersamples.txt'\n",
    "NO3_bottle = pd.read_csv(infile, sep='\\t', names = [\"StationNr\", \"Depth\", \"Nitrate\"])\n",
    "\n",
    "AlignedFile = '%s.txt' % ('NO3_SUNA_Sample_aligned')\n",
    "AlignedF = open(AlignedFile,'w')\n",
    "\n",
    "Aligned = pd.DataFrame(columns=['Station','Depth','Nitrate','NitrateBinned'])"
   ]
  },
  {
   "cell_type": "code",
   "execution_count": 3,
   "metadata": {
    "scrolled": false
   },
   "outputs": [],
   "source": [
    "#Loop through SUNA files\n",
    "for f_name in os.listdir('./SUNA_profiles/'):\n",
    "    if f_name.endswith('.txt'):\n",
    "        f_name_elements = f_name.split('sta')\n",
    "        #print(f_name_elements)\n",
    "        f_name_getnr = f_name_elements[1].split('.txt')\n",
    "        infile = './SUNA_profiles/%s' % (f_name)\n",
    "        SUNA_profile = pd.read_csv(infile, sep=' ')\n",
    "        #From bin ctd code from Corday\n",
    "        inc = 1 # define depth increment to bin by (m)\n",
    "        depthlist = np.arange(0,np.round(np.max(SUNA_profile.Depth), decimals = 0) + inc, inc)\n",
    "        df = pd.DataFrame(columns=['Station','Depth','NitrateBinned'])\n",
    "        for j in depthlist:\n",
    "            #Modify following to read in all profiles\n",
    "            #loc = df[(df.Cast == i) & (np.round(df.Depth_m, decimals = 0) == j)]\n",
    "            loc = SUNA_profile[(np.round(SUNA_profile.Depth, decimals = 0) == j)]\n",
    "            Nitratebinned = np.mean((loc[\"Nitrate(umol/L)\"]))\n",
    "            df = df.append({'Station': int(f_name_getnr[0]),'Depth':j,'NitrateBinned':Nitratebinned}, ignore_index=True)\n",
    "    for i in df.Depth:\n",
    "        if pd.isna(df.NitrateBinned[df.Depth ==i].item()) == True:\n",
    "            NitrateBinned_new_item = np.mean(df.NitrateBinned[(df.Depth == i+1)|(df.Depth == i-1)])\n",
    "            df.NitrateBinned[(df.Depth == i)] = NitrateBinned_new_item\n",
    "        else:\n",
    "            NitrateBinned_new_item = df.NitrateBinned[df.Depth ==i].item()\n",
    "            df.NitrateBinned[(df.Depth == i)] = NitrateBinned_new_item\n",
    "    #Uncomment the following line if you want to overwrite the binned SUNA nitrate files\n",
    "    df.to_csv('%s%s%s' % (f_name_elements[0],'binned_',f_name_elements[1]), header=None, index=None, sep='\\t', mode='a')\n",
    "    \n",
    "    #Find corresponding depths between files\n",
    "    for index, row in NO3_bottle.iterrows():\n",
    "        for indexSUNA, rowSUNA in df.iterrows():\n",
    "            if int(row['StationNr']) == int(rowSUNA['Station']) and int(row['Depth']) == int(rowSUNA['Depth']):\n",
    "                Aligned = Aligned.append({'Station': (int(rowSUNA['Station'])),'Depth':row['Depth'],'Nitrate' : row['Nitrate'],'NitrateBinned':rowSUNA['NitrateBinned']}, ignore_index=True)\n",
    "                #print(int(row['StationNr']),' ',rowSUNA['NitrateBinned'])"
   ]
  },
  {
   "cell_type": "code",
   "execution_count": 4,
   "metadata": {},
   "outputs": [
    {
     "name": "stdout",
     "output_type": "stream",
     "text": [
      "    Station  Depth  Nitrate  NitrateBinned\n",
      "0      75.0    3.0   0.0861       3.720000\n",
      "1      75.0   24.0   0.2979       9.726667\n",
      "2      75.0   42.0   2.3519      14.600000\n",
      "3      75.0  100.0  14.0838      17.393333\n",
      "4      75.0  132.0  13.6796      17.445000\n",
      "5     171.0    3.0   0.0653       8.580500\n",
      "6     171.0   10.0  -0.0216      10.517500\n",
      "7     171.0   23.0   1.0740      10.617500\n",
      "8     171.0   35.0   4.0899       7.003125\n",
      "9      20.0    1.0   0.0617            NaN\n",
      "10     20.0   45.0   0.6030       5.970000\n",
      "11     20.0  100.0  11.3285      17.790000\n",
      "12     20.0  250.0  12.9157      16.170000\n",
      "13     20.0  450.0  11.3803      16.222436\n",
      "14    166.0    4.0   0.1210       4.917917\n",
      "15    166.0   35.0   1.1324      12.470000\n",
      "16    166.0   50.0   5.4596      13.500000\n",
      "17    166.0  100.0  12.8708      18.747500\n",
      "18    166.0  450.0  13.2613      18.143333\n",
      "19    168.0    4.0   0.0195       5.763333\n",
      "20    168.0   25.0   0.7417      13.045000\n",
      "21    168.0   50.0   7.6599      17.016667\n",
      "22    168.0  100.0  14.3378      19.473333\n",
      "23    128.0    5.0   0.0291       5.586667\n",
      "24    128.0   30.0  -0.0148       8.215000\n",
      "25    128.0  100.0  14.3221      18.680000\n",
      "26    128.0  200.0  13.5752      18.685000\n",
      "27    128.0  300.0  13.6126      18.817500\n",
      "28    183.0    4.0   0.2471       4.095000\n",
      "29    183.0   30.0   0.5347       5.815000\n",
      "30    183.0   50.0  14.1829       9.360000\n",
      "31    183.0  100.0  13.1632      18.045000\n",
      "32    183.0  150.0  13.6410      17.552500\n",
      "33    183.0  300.0  13.6410      17.574200\n",
      "34     37.0    4.0   0.1089       3.455000\n",
      "35     37.0   14.0   0.0706       4.072500\n",
      "36     37.0   34.0   0.4170       6.960000\n",
      "37     37.0  120.0  14.5698      16.440000\n",
      "38     37.0  390.0  13.4425      16.827727\n",
      "39     22.0    3.8   0.2553       3.600833\n",
      "40     22.0   32.0   0.6605       7.210000\n",
      "41     22.0  120.0  14.0726      16.612500\n",
      "42     22.0  250.0  13.4714      16.560000\n",
      "43     22.0  450.0  12.7293      16.454318\n",
      "44      5.0    1.0   0.2471            NaN\n",
      "45      5.0   30.0   0.5347       2.780000\n",
      "46      5.0  150.0  14.1829      15.450000\n",
      "47      5.0  200.0  13.1632      15.480000\n",
      "48     55.0    2.0   0.0750       3.951500\n",
      "49     55.0   32.0   0.0366       8.875000\n",
      "50     55.0   50.0   2.7156      15.418334\n",
      "51     55.0  100.0  13.4272      17.573333\n",
      "52     55.0  152.0  13.6127      17.475000\n",
      "53     87.0    4.0   0.0826       4.044500\n",
      "54     87.0   13.0   0.1031       4.176667\n",
      "55     87.0   28.0   0.1892       6.270000\n",
      "56     87.0   75.0   7.0470      17.483333\n",
      "57     87.0  135.0  13.7665      17.850909\n"
     ]
    }
   ],
   "source": [
    "print(Aligned)"
   ]
  },
  {
   "cell_type": "code",
   "execution_count": 10,
   "metadata": {},
   "outputs": [],
   "source": [
    "Aligned.to_csv('Aligned_BinnedSUNA_bottleSamples.csv', header=['Station','Depth','Nitrate Water Sample', 'Nitrate SUNA'], index=None, sep='\\t', mode='a')\n"
   ]
  },
  {
   "cell_type": "code",
   "execution_count": null,
   "metadata": {},
   "outputs": [],
   "source": [
    "#Skip below, just saved for reference"
   ]
  },
  {
   "cell_type": "code",
   "execution_count": 17,
   "metadata": {},
   "outputs": [
    {
     "name": "stdout",
     "output_type": "stream",
     "text": [
      "1.0   0.2471   nan\n",
      "30.0   0.5347   2.78\n",
      "150.0   14.1829   nan\n",
      "200.0   13.1632   15.48\n"
     ]
    }
   ],
   "source": [
    "#Find corresponding depths between files\n",
    "for index, row in NO3_bottle.iterrows():\n",
    "    for indexSUNA, rowSUNA in df.iterrows():\n",
    "        if int(row['StationNr']) == int(rowSUNA['Station']) and int(row['Depth']) == int(rowSUNA['Depth']):\n",
    "            print(row['Depth'],' ', row['Nitrate'],' ', rowSUNA['NitrateBinned'])"
   ]
  },
  {
   "cell_type": "code",
   "execution_count": null,
   "metadata": {},
   "outputs": [],
   "source": [
    "#Above depth of 150 is returning a nan for the binned nitrate\n",
    "\n",
    "#Raw unbinned SUNA nitrate data around depth of 150:\n",
    "\n",
    "#147.515478 15.020000 \n",
    "#149.549457 NaN \n",
    "#151.236311 15.880000 "
   ]
  }
 ],
 "metadata": {
  "kernelspec": {
   "display_name": "Python 3",
   "language": "python",
   "name": "python3"
  },
  "language_info": {
   "codemirror_mode": {
    "name": "ipython",
    "version": 3
   },
   "file_extension": ".py",
   "mimetype": "text/x-python",
   "name": "python",
   "nbconvert_exporter": "python",
   "pygments_lexer": "ipython3",
   "version": "3.7.6"
  }
 },
 "nbformat": 4,
 "nbformat_minor": 4
}
