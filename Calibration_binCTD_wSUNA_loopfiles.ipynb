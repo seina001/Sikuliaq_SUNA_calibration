{
 "cells": [
  {
   "cell_type": "code",
   "execution_count": 2,
   "metadata": {},
   "outputs": [],
   "source": [
    "import os\n",
    "import numpy as np\n",
    "import pandas as pd"
   ]
  },
  {
   "cell_type": "code",
   "execution_count": 22,
   "metadata": {},
   "outputs": [],
   "source": [
    "#Import CTD bottle nitrate data for calibration of SUNA\n",
    "\n",
    "infile = './nitratewatersamples.txt'\n",
    "NO3_bottle = pd.read_csv(infile, sep='\\t', names = [\"StationNr\", \"Depth\", \"Nitrate\"])\n",
    "\n",
    "AlignedFile = '%s.txt' % ('NO3_SUNA_Sample_aligned')\n",
    "AlignedF = open(AlignedFile,'w')\n",
    "\n",
    "Aligned = pd.DataFrame(columns=['Station','Depth','Nitrate','NitrateBinned'])"
   ]
  },
  {
   "cell_type": "code",
   "execution_count": 26,
   "metadata": {
    "scrolled": false
   },
   "outputs": [],
   "source": [
    "#Loop through SUNA files\n",
    "for f_name in os.listdir('./SUNA_profiles'):\n",
    "    if f_name.endswith('.txt'):\n",
    "        f_name_elements = f_name.split('sta')\n",
    "        #print(f_name_elements)\n",
    "        f_name_getnr = f_name_elements[1].split('.txt')\n",
    "        infile = './SUNA_profiles/%s' % (f_name)\n",
    "        SUNA_profile = pd.read_csv(infile, sep=' ')\n",
    "        #From bin ctd code from Corday\n",
    "        inc = 1 # define depth increment to bin by (m)\n",
    "        depthlist = np.arange(0,np.round(np.max(SUNA_profile.Depth), decimals = 0) + inc, inc)\n",
    "        df = pd.DataFrame(columns=['Station','Depth','NitrateBinned'])\n",
    "        for j in depthlist:\n",
    "            #Modify following to read in all profiles\n",
    "            #loc = df[(df.Cast == i) & (np.round(df.Depth_m, decimals = 0) == j)]\n",
    "            loc = SUNA_profile[(np.round(SUNA_profile.Depth, decimals = 0) == j)]\n",
    "            Nitratebinned = np.mean((loc[\"Nitrate(umol/L)\"]))\n",
    "            #Adjust \"5\" when looping through files\n",
    "           # OutputString = \"5,%i,%f\\n\" % (j,Nitratebinned)\n",
    "            df = df.append({'Station': int(f_name_getnr[0]),'Depth':j,'NitrateBinned':Nitratebinned}, ignore_index=True)\n",
    "    df.to_csv('%s%s%s' % (f_name_elements[0],'binned_',f_name_elements[1]), header=None, index=None, sep='\\t', mode='a')\n",
    "    \n",
    "    #Find corresponding depths between files\n",
    "    for index, row in NO3_bottle.iterrows():\n",
    "        for indexSUNA, rowSUNA in df.iterrows():\n",
    "            if int(row['StationNr']) == int(rowSUNA['Station']) and int(row['Depth']) == int(rowSUNA['Depth']):\n",
    "                Aligned = Aligned.append({'Station': (int(rowSUNA['Station'])),'Depth':row['Depth'],'Nitrate' : row['Nitrate'],'NitrateBinned':rowSUNA['NitrateBinned']}, ignore_index=True)\n",
    "                "
   ]
  },
  {
   "cell_type": "code",
   "execution_count": 27,
   "metadata": {},
   "outputs": [
    {
     "data": {
      "text/html": [
       "<div>\n",
       "<style scoped>\n",
       "    .dataframe tbody tr th:only-of-type {\n",
       "        vertical-align: middle;\n",
       "    }\n",
       "\n",
       "    .dataframe tbody tr th {\n",
       "        vertical-align: top;\n",
       "    }\n",
       "\n",
       "    .dataframe thead th {\n",
       "        text-align: right;\n",
       "    }\n",
       "</style>\n",
       "<table border=\"1\" class=\"dataframe\">\n",
       "  <thead>\n",
       "    <tr style=\"text-align: right;\">\n",
       "      <th></th>\n",
       "      <th>Station</th>\n",
       "      <th>Depth</th>\n",
       "      <th>Nitrate</th>\n",
       "      <th>NitrateBinned</th>\n",
       "    </tr>\n",
       "  </thead>\n",
       "  <tbody>\n",
       "    <tr>\n",
       "      <th>0</th>\n",
       "      <td>5.0</td>\n",
       "      <td>1.0</td>\n",
       "      <td>0.2471</td>\n",
       "      <td>NaN</td>\n",
       "    </tr>\n",
       "    <tr>\n",
       "      <th>1</th>\n",
       "      <td>5.0</td>\n",
       "      <td>30.0</td>\n",
       "      <td>0.5347</td>\n",
       "      <td>2.780000</td>\n",
       "    </tr>\n",
       "    <tr>\n",
       "      <th>2</th>\n",
       "      <td>5.0</td>\n",
       "      <td>150.0</td>\n",
       "      <td>14.1829</td>\n",
       "      <td>NaN</td>\n",
       "    </tr>\n",
       "    <tr>\n",
       "      <th>3</th>\n",
       "      <td>5.0</td>\n",
       "      <td>200.0</td>\n",
       "      <td>13.1632</td>\n",
       "      <td>15.480000</td>\n",
       "    </tr>\n",
       "    <tr>\n",
       "      <th>4</th>\n",
       "      <td>75.0</td>\n",
       "      <td>3.0</td>\n",
       "      <td>0.0861</td>\n",
       "      <td>NaN</td>\n",
       "    </tr>\n",
       "    <tr>\n",
       "      <th>...</th>\n",
       "      <td>...</td>\n",
       "      <td>...</td>\n",
       "      <td>...</td>\n",
       "      <td>...</td>\n",
       "    </tr>\n",
       "    <tr>\n",
       "      <th>57</th>\n",
       "      <td>87.0</td>\n",
       "      <td>4.0</td>\n",
       "      <td>0.0826</td>\n",
       "      <td>4.044500</td>\n",
       "    </tr>\n",
       "    <tr>\n",
       "      <th>58</th>\n",
       "      <td>87.0</td>\n",
       "      <td>13.0</td>\n",
       "      <td>0.1031</td>\n",
       "      <td>4.176667</td>\n",
       "    </tr>\n",
       "    <tr>\n",
       "      <th>59</th>\n",
       "      <td>87.0</td>\n",
       "      <td>28.0</td>\n",
       "      <td>0.1892</td>\n",
       "      <td>6.270000</td>\n",
       "    </tr>\n",
       "    <tr>\n",
       "      <th>60</th>\n",
       "      <td>87.0</td>\n",
       "      <td>75.0</td>\n",
       "      <td>7.0470</td>\n",
       "      <td>17.483333</td>\n",
       "    </tr>\n",
       "    <tr>\n",
       "      <th>61</th>\n",
       "      <td>87.0</td>\n",
       "      <td>135.0</td>\n",
       "      <td>13.7665</td>\n",
       "      <td>17.850909</td>\n",
       "    </tr>\n",
       "  </tbody>\n",
       "</table>\n",
       "<p>62 rows × 4 columns</p>\n",
       "</div>"
      ],
      "text/plain": [
       "    Station  Depth  Nitrate  NitrateBinned\n",
       "0       5.0    1.0   0.2471            NaN\n",
       "1       5.0   30.0   0.5347       2.780000\n",
       "2       5.0  150.0  14.1829            NaN\n",
       "3       5.0  200.0  13.1632      15.480000\n",
       "4      75.0    3.0   0.0861            NaN\n",
       "..      ...    ...      ...            ...\n",
       "57     87.0    4.0   0.0826       4.044500\n",
       "58     87.0   13.0   0.1031       4.176667\n",
       "59     87.0   28.0   0.1892       6.270000\n",
       "60     87.0   75.0   7.0470      17.483333\n",
       "61     87.0  135.0  13.7665      17.850909\n",
       "\n",
       "[62 rows x 4 columns]"
      ]
     },
     "execution_count": 27,
     "metadata": {},
     "output_type": "execute_result"
    }
   ],
   "source": [
    "Aligned"
   ]
  },
  {
   "cell_type": "code",
   "execution_count": 28,
   "metadata": {},
   "outputs": [],
   "source": [
    "Aligned.to_csv('Aligned_BinnedSUNA_bottleSamples.csv', header=None, index=None, sep='\\t', mode='a')\n"
   ]
  },
  {
   "cell_type": "code",
   "execution_count": null,
   "metadata": {},
   "outputs": [],
   "source": [
    "#Skip below, just saved for reference"
   ]
  },
  {
   "cell_type": "code",
   "execution_count": 17,
   "metadata": {},
   "outputs": [
    {
     "name": "stdout",
     "output_type": "stream",
     "text": [
      "1.0   0.2471   nan\n",
      "30.0   0.5347   2.78\n",
      "150.0   14.1829   nan\n",
      "200.0   13.1632   15.48\n"
     ]
    }
   ],
   "source": [
    "#Find corresponding depths between files\n",
    "for index, row in NO3_bottle.iterrows():\n",
    "    for indexSUNA, rowSUNA in df.iterrows():\n",
    "        if int(row['StationNr']) == int(rowSUNA['Station']) and int(row['Depth']) == int(rowSUNA['Depth']):\n",
    "            print(row['Depth'],' ', row['Nitrate'],' ', rowSUNA['NitrateBinned'])"
   ]
  },
  {
   "cell_type": "code",
   "execution_count": null,
   "metadata": {},
   "outputs": [],
   "source": [
    "#Above depth of 150 is returning a nan for the binned nitrate\n",
    "\n",
    "#Raw unbinned SUNA nitrate data around depth of 150:\n",
    "\n",
    "#147.515478 15.020000 \n",
    "#149.549457 NaN \n",
    "#151.236311 15.880000 "
   ]
  }
 ],
 "metadata": {
  "kernelspec": {
   "display_name": "Python 3",
   "language": "python",
   "name": "python3"
  },
  "language_info": {
   "codemirror_mode": {
    "name": "ipython",
    "version": 3
   },
   "file_extension": ".py",
   "mimetype": "text/x-python",
   "name": "python",
   "nbconvert_exporter": "python",
   "pygments_lexer": "ipython3",
   "version": "3.7.6"
  }
 },
 "nbformat": 4,
 "nbformat_minor": 4
}
